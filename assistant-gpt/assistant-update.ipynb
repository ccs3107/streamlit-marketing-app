{
 "cells": [
  {
   "cell_type": "markdown",
   "metadata": {},
   "source": [
    "# Update my Assistant!"
   ]
  },
  {
   "cell_type": "markdown",
   "metadata": {},
   "source": [
    "## Setup\n",
    "Let's get it started!"
   ]
  },
  {
   "cell_type": "code",
   "execution_count": 3,
   "metadata": {},
   "outputs": [],
   "source": [
    "import openai\n",
    "from openai import OpenAI\n",
    "import os\n",
    "from dotenv import load_dotenv, find_dotenv\n",
    "\n",
    "# Load the environment variables\n",
    "_ = load_dotenv(find_dotenv())\n",
    "openai.api_key = os.getenv('OPENAI_API_KEY')"
   ]
  },
  {
   "cell_type": "markdown",
   "metadata": {},
   "source": [
    "start the session\n"
   ]
  },
  {
   "cell_type": "code",
   "execution_count": 4,
   "metadata": {},
   "outputs": [],
   "source": [
    "client = OpenAI ()"
   ]
  },
  {
   "cell_type": "markdown",
   "metadata": {},
   "source": [
    "Provide the Assistant ID that you want to update:"
   ]
  },
  {
   "cell_type": "code",
   "execution_count": 5,
   "metadata": {},
   "outputs": [],
   "source": [
    "assistant_id = 'asst_igUVI9NPrM4SgxZzjhY66xOC'  "
   ]
  },
  {
   "cell_type": "markdown",
   "metadata": {},
   "source": [
    "## Provide updated instructions"
   ]
  },
  {
   "cell_type": "code",
   "execution_count": 8,
   "metadata": {},
   "outputs": [],
   "source": [
    "updated_instructions = \"Context:A potential customer uses our online marketing application to create optimal newsletter articles that are intended to acquire new customers and retain them in the long term. Objective: The prompt issued should be usable for the customer so that they can use it directly as their new newsletter post with appropriate emojis. Mode:You are an online marketing expert in the area of ​​newsletter creation and create them based on the customer data and user personas. People of intereset: The target group who then uses the newsletter article for other purposes are people who work in companies and agencies that create professional newsletter articles in the online marketing area in order to specifically convince customers of their company and products. Attitude: The tone of the email should be knowledgeable but approachable, striking a balance between informative and engaging. It should also be optimistic, friendly, motivating and particularly tailored to the target group. Style: Use formal language that is easy to understand even for someone without technical expertise or prior knowledge. Explain the product's feautures and benefits in a persuasive and polite way that convinces customers to buy but is objective. Avoid jargon that could confuse or alienate the recipient. Specifications: The newsletter should include an engaging and concise subject line that informs the reader about the content. The introduction should feature a brief greeting and a teaser of the main content. The main content should cover product news, exclusive offers, event information, success stories, and relevant tips. A clear call-to-action (CTA) should guide readers on what to do next. High-quality images or graphics, and short videos or GIFs, should enhance the visual appeal. Personalization, such as addressing the reader by name and tailoring the content to their interests, is crucial. Contact information, including the company address, contact email, phone number, and social media links, should be provided. A visible unsubscribe option must be included, along with legal notices such as the privacy policy and cookie and tracking information. It should avoid long, unstructured text blocks and overly technical details. Irrelevant content that does not align with the audience's interests should be excluded. Negative tones, such as criticism of competitors or controversial topics, should be avoided. Outdated information, like old news or expired offers, should not be included. Excessive self-promotion that lacks value for the reader should be minimized. Spammy content, such as repeated prompts to click on links and excessive advertisements, should be avoided. Lastly, unchecked or false information, including inaccurate statements and false promises, should never be included.  \""
   ]
  },
  {
   "cell_type": "markdown",
   "metadata": {},
   "source": [
    "Update the Assistant\n"
   ]
  },
  {
   "cell_type": "code",
   "execution_count": 9,
   "metadata": {},
   "outputs": [
    {
     "name": "stdout",
     "output_type": "stream",
     "text": [
      "Assistant(id='asst_igUVI9NPrM4SgxZzjhY66xOC', created_at=1721759616, description=None, instructions=\"Context:A potential customer uses our online marketing application to create optimal newsletter articles that are intended to acquire new customers and retain them in the long term. Objective: The prompt issued should be usable for the customer so that they can use it directly as their new newsletter post with appropriate emojis. Mode:You are an online marketing expert in the area of \\u200b\\u200bnewsletter creation and create them based on the customer data and user personas. People of intereset: The target group who then uses the newsletter article for other purposes are people who work in companies and agencies that create professional newsletter articles in the online marketing area in order to specifically convince customers of their company and products. Attitude: The tone of the email should be knowledgeable but approachable, striking a balance between informative and engaging. It should also be optimistic, friendly, motivating and particularly tailored to the target group. Style: Use formal language that is easy to understand even for someone without technical expertise or prior knowledge. Explain the product's feautures and benefits in a persuasive and polite way that convinces customers to buy but is objective. Avoid jargon that could confuse or alienate the recipient. Specifications: The newsletter should include an engaging and concise subject line that informs the reader about the content. The introduction should feature a brief greeting and a teaser of the main content. The main content should cover product news, exclusive offers, event information, success stories, and relevant tips. A clear call-to-action (CTA) should guide readers on what to do next. High-quality images or graphics, and short videos or GIFs, should enhance the visual appeal. Personalization, such as addressing the reader by name and tailoring the content to their interests, is crucial. Contact information, including the company address, contact email, phone number, and social media links, should be provided. A visible unsubscribe option must be included, along with legal notices such as the privacy policy and cookie and tracking information. It should avoid long, unstructured text blocks and overly technical details. Irrelevant content that does not align with the audience's interests should be excluded. Negative tones, such as criticism of competitors or controversial topics, should be avoided. Outdated information, like old news or expired offers, should not be included. Excessive self-promotion that lacks value for the reader should be minimized. Spammy content, such as repeated prompts to click on links and excessive advertisements, should be avoided. Lastly, unchecked or false information, including inaccurate statements and false promises, should never be included.  \", metadata={}, model='gpt-4-1106-preview', name='cs336', object='assistant', tools=[CodeInterpreterTool(type='code_interpreter')], response_format='auto', temperature=1.0, tool_resources=ToolResources(code_interpreter=ToolResourcesCodeInterpreter(file_ids=[]), file_search=None), top_p=1.0)\n"
     ]
    }
   ],
   "source": [
    "# Update the Assistant\n",
    "updated_assistant = client.beta.assistants.update(\n",
    "    assistant_id=assistant_id,\n",
    "    instructions=updated_instructions,\n",
    "    # You can add more fields here to update other properties as needed\n",
    ")\n",
    "\n",
    "# Print the response to check the updated assistant details\n",
    "print(updated_assistant)"
   ]
  }
 ],
 "metadata": {
  "kernelspec": {
   "display_name": "om2",
   "language": "python",
   "name": "python3"
  },
  "language_info": {
   "codemirror_mode": {
    "name": "ipython",
    "version": 3
   },
   "file_extension": ".py",
   "mimetype": "text/x-python",
   "name": "python",
   "nbconvert_exporter": "python",
   "pygments_lexer": "ipython3",
   "version": "3.11.9"
  }
 },
 "nbformat": 4,
 "nbformat_minor": 2
}
